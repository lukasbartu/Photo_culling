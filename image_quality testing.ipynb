{
 "cells": [
  {
   "cell_type": "markdown",
   "source": [
    "# Image Quality\n",
    "- Brisque - https://pypi.org/project/brisque/\n",
    "- image-quality 1.2.7 - https://pypi.org/project/image-quality/\n",
    "- NIMA - https://github.com/yunxiaoshi/Neural-IMage-Assessment"
   ],
   "metadata": {
    "collapsed": false
   },
   "id": "f786a6e7de7ade7a"
  },
  {
   "cell_type": "markdown",
   "source": [
    "For assessing image quality we have to consider two aspects. Technical and aesthetic quality of an image. Our usage involves no reference for quality assessment.We are going to look into how fast and sensitive the image quality evaluator is.\n",
    "\n",
    "Firstly we are going to focus on technical quality. For technical quality we can choose from two approaches, one that is algorithmic and focused on scene statistics and the second one, which is using CNN trained on TID2013 dataset.\n",
    "\n",
    "For algorithmic approach we tested two implementations of the same algorithm called BRISQUE (Blind/referenceless image spatial quality evaluator). First implementation is library created by Rehan Guha (https://pypi.org/project/brisque/). "
   ],
   "metadata": {
    "collapsed": false
   },
   "id": "a8b81d75e55fe9ab"
  },
  {
   "cell_type": "code",
   "execution_count": 126,
   "outputs": [],
   "source": [
    "import time,os\n",
    "from brisque import BRISQUE\n",
    "from skimage import io"
   ],
   "metadata": {
    "collapsed": false,
    "ExecuteTime": {
     "end_time": "2023-09-22T14:45:33.456654060Z",
     "start_time": "2023-09-22T14:45:33.429613946Z"
    }
   },
   "id": "e30cf9e3f73ce306"
  },
  {
   "cell_type": "code",
   "execution_count": 127,
   "outputs": [],
   "source": [
    "# We create list of images that we use for testing\n",
    "\n",
    "image_path = '/home/lukas/Bakalářka/photo_culling/images/testing'\n",
    "img_list = []  # list of image file names to process\n",
    "for path in os.scandir(image_path):\n",
    "    if path.is_file():\n",
    "        if path.name.endswith(\".jpg\"):\n",
    "            img_list += [path.name]"
   ],
   "metadata": {
    "collapsed": false,
    "ExecuteTime": {
     "end_time": "2023-09-22T14:45:33.507673780Z",
     "start_time": "2023-09-22T14:45:33.477689094Z"
    }
   },
   "id": "f533be1ba8b2db32"
  },
  {
   "cell_type": "code",
   "execution_count": 128,
   "outputs": [
    {
     "name": "stdout",
     "output_type": "stream",
     "text": [
      "TIME - 44.76 s\n",
      "['clear.jpg', 'GaussBlur.jpg', 'rotated.jpg', 'inverted.jpg', 'hue_shift.jpg', 'contrast.jpg']\n",
      "[63.439140291231155, 96.60843292281524, 63.230106082455876, 63.30271773240301, 59.23486617151738, 71.03791634023887]\n"
     ]
    }
   ],
   "source": [
    "obj = BRISQUE(url=False)\n",
    "results_BRISQUE = []\n",
    "\n",
    "tic = time.perf_counter()\n",
    "for img in img_list:\n",
    "    x = io.imread(os.path.join(image_path,img))\n",
    "    results_BRISQUE.append(obj.score(x))\n",
    "toc = time.perf_counter()\n",
    "print(f\"TIME - {toc - tic:0.2f} s\")\n",
    "print(img_list)\n",
    "print(results_BRISQUE)"
   ],
   "metadata": {
    "collapsed": false,
    "ExecuteTime": {
     "end_time": "2023-09-22T14:46:18.279101090Z",
     "start_time": "2023-09-22T14:45:33.478369276Z"
    }
   },
   "id": "85cbdd61b53f35d1"
  },
  {
   "cell_type": "markdown",
   "source": [
    "From this first test we can see that for this algorithm rotating and inverting has little to no effect. For shifted hue and increased contrast we can observe\n",
    "small change in quality score. And for Gaussian blur we can see the biggest quality score drop. This is expected as the technical quality should only be measured\n",
    "by pixels relation to its surroundings.\n",
    "\n",
    "Now we can try testing the second implementation of BRISQUE from image-quality library made by Ricardo Ocampo. In this implementation we need to open the images\n",
    "with Pillow image library function. This is slight downside."
   ],
   "metadata": {
    "collapsed": false
   },
   "id": "2adfee4132c43ef6"
  },
  {
   "cell_type": "code",
   "execution_count": 129,
   "outputs": [],
   "source": [
    "import PIL.Image\n",
    "import imquality.brisque"
   ],
   "metadata": {
    "collapsed": false,
    "ExecuteTime": {
     "end_time": "2023-09-22T14:46:18.347932051Z",
     "start_time": "2023-09-22T14:46:18.304014124Z"
    }
   },
   "id": "1f4eb56922819494"
  },
  {
   "cell_type": "code",
   "execution_count": 130,
   "outputs": [
    {
     "name": "stdout",
     "output_type": "stream",
     "text": [
      "TIME - 242.50 s\n",
      "['clear.jpg', 'GaussBlur.jpg', 'rotated.jpg', 'inverted.jpg', 'hue_shift.jpg', 'contrast.jpg']\n",
      "[63.76477488661598, 98.15799411945116, 63.57080624559066, 63.595836343125, 59.454852915252076, 71.33528411947336]\n"
     ]
    }
   ],
   "source": [
    "results_BRISQUE = []\n",
    "\n",
    "tic = time.perf_counter()\n",
    "for img in img_list:\n",
    "    x = imquality.brisque.score(PIL.Image.open(os.path.join(image_path,img)))\n",
    "    results_BRISQUE.append(x)\n",
    "toc = time.perf_counter()\n",
    "print(f\"TIME - {toc - tic:0.2f} s\")\n",
    "print(img_list)\n",
    "print(results_BRISQUE)"
   ],
   "metadata": {
    "collapsed": false,
    "ExecuteTime": {
     "end_time": "2023-09-22T14:50:20.820862811Z",
     "start_time": "2023-09-22T14:46:18.319670204Z"
    }
   },
   "id": "5263bb5080c34aa5"
  },
  {
   "cell_type": "markdown",
   "source": [
    "From the second test we can observe the same as in the first one. The most significant score change is in the case of blurring the image. The quality scores\n",
    "for both implementations are nearly identical.\n",
    "\n",
    "Both of these solutions are very easy-to-use, give us single score number representing the technical quality and are linear in terms of computing time. That said,\n",
    "the first implementation is around 5 times faster and doesn't require us to open images beforehand. From these factors we can already see that the first\n",
    "implementation is superior of those two.\n",
    "\n",
    "Now we can go ahead and test CNN approach to technical quality assessment."
   ],
   "metadata": {
    "collapsed": false
   },
   "id": "a0bc1cd2a4e9319"
  },
  {
   "cell_type": "code",
   "execution_count": 130,
   "outputs": [],
   "source": [],
   "metadata": {
    "collapsed": false,
    "ExecuteTime": {
     "end_time": "2023-09-22T14:50:20.832226877Z",
     "start_time": "2023-09-22T14:50:20.827041380Z"
    }
   },
   "id": "9fe8adc961934356"
  }
 ],
 "metadata": {
  "kernelspec": {
   "display_name": "Python 3",
   "language": "python",
   "name": "python3"
  },
  "language_info": {
   "codemirror_mode": {
    "name": "ipython",
    "version": 2
   },
   "file_extension": ".py",
   "mimetype": "text/x-python",
   "name": "python",
   "nbconvert_exporter": "python",
   "pygments_lexer": "ipython2",
   "version": "2.7.6"
  }
 },
 "nbformat": 4,
 "nbformat_minor": 5
}
