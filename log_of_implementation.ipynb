{
 "cells": [
  {
   "cell_type": "markdown",
   "source": [
    "# Image Quality\n",
    "- Brisque - https://pypi.org/project/brisque/\n",
    "- image-quality 1.2.7 - https://pypi.org/project/image-quality/\n",
    "- NIMA - https://github.com/yunxiaoshi/Neural-IMage-Assessment"
   ],
   "metadata": {
    "collapsed": false
   },
   "id": "a18e2530f24e2323"
  },
  {
   "cell_type": "code",
   "execution_count": 2,
   "outputs": [],
   "source": [
    "import time\n",
    "import imquality.brisque\n",
    "import PIL.Image\n",
    "from brisque import BRISQUE\n",
    "from skimage import io\n",
    "import torchvision.transforms as transforms\n",
    "import torch\n",
    "import piq\n",
    "from skimage.io import imread\n",
    "import warnings\n",
    "import os\n",
    "import numpy as np\n",
    "import skimage\n",
    "import cv2"
   ],
   "metadata": {
    "collapsed": false,
    "ExecuteTime": {
     "end_time": "2023-09-21T12:53:18.249634149Z",
     "start_time": "2023-09-21T12:53:17.489099518Z"
    }
   },
   "id": "627e6abbf72e20e3"
  },
  {
   "cell_type": "code",
   "execution_count": 3,
   "outputs": [],
   "source": [
    "path1 = '/home/lukas/Bakalářka/images/Ples/fotokoutek/foto0001.jpg'\n",
    "img1 = io.imread(path1)\n",
    "path2 = '/home/lukas/Bakalářka/images/Ples/fotokoutek/foto0002.jpg'\n",
    "img2 = io.imread(path2)\n",
    "path3 = '/home/lukas/Bakalářka/images/Ples/fotokoutek/foto0004.jpg'\n",
    "img3 = io.imread(path3)"
   ],
   "metadata": {
    "collapsed": false,
    "ExecuteTime": {
     "end_time": "2023-09-21T12:53:18.706297192Z",
     "start_time": "2023-09-21T12:53:18.605608810Z"
    }
   },
   "id": "589d302eedde2d05"
  },
  {
   "cell_type": "code",
   "execution_count": 95,
   "outputs": [
    {
     "name": "stdout",
     "output_type": "stream",
     "text": [
      "SCORE: 2.7007605797649576\n",
      "TIME - 0.80 s\n"
     ]
    }
   ],
   "source": [
    "### BRISQUE - technical quality only\n",
    "time1 = time.perf_counter()\n",
    "obj = BRISQUE(url=False)\n",
    "print(\"SCORE:\",obj.score(img3)/10)\n",
    "time2 = time.perf_counter()\n",
    "print(f\"TIME - {time2-time1:0.2f} s\")"
   ],
   "metadata": {
    "collapsed": false,
    "ExecuteTime": {
     "end_time": "2023-09-13T14:39:46.462145829Z",
     "start_time": "2023-09-13T14:39:45.683127279Z"
    }
   },
   "id": "d6dc292c0039785"
  },
  {
   "cell_type": "code",
   "execution_count": 96,
   "outputs": [
    {
     "name": "stdout",
     "output_type": "stream",
     "text": [
      "SCORE: 2.587213443716152\n",
      "TIME - 5.87 s\n"
     ]
    }
   ],
   "source": [
    "### imquality - technical quality only\n",
    "#  - implementation of brisque \n",
    "#  - very slow\n",
    "time1 = time.perf_counter()\n",
    "print(\"SCORE:\",imquality.brisque.score(PIL.Image.open(path3))/10)\n",
    "time2 = time.perf_counter()\n",
    "print(f\"TIME - {time2-time1:0.2f} s\")"
   ],
   "metadata": {
    "collapsed": false,
    "ExecuteTime": {
     "end_time": "2023-09-13T14:39:52.334310735Z",
     "start_time": "2023-09-13T14:39:46.446094784Z"
    }
   },
   "id": "246b8a78b79cf3a1"
  },
  {
   "cell_type": "code",
   "execution_count": 97,
   "outputs": [
    {
     "name": "stdout",
     "output_type": "stream",
     "text": [
      "MEAN SCORE: 6.29 STD: 1.34\n",
      "TIME - 2.18 s\n"
     ]
    }
   ],
   "source": [
    "### NIMA - aesthetic and technical quality depending on training database\n",
    "from main import prepare_model\n",
    "time1 = time.perf_counter()\n",
    "model,device = prepare_model(\"epoch-82.pth\") # path to model\n",
    "test_transform = transforms.Compose([\n",
    "        transforms.Resize(256),\n",
    "        transforms.RandomCrop(224),\n",
    "        transforms.ToTensor(),\n",
    "        transforms.Normalize(mean=[0.485, 0.456, 0.406],\n",
    "                             std=[0.229, 0.224, 0.225])\n",
    "    ])\n",
    "imt = test_transform(PIL.Image.open(path3))\n",
    "imt = imt.unsqueeze(dim=0)\n",
    "imt = imt.to(device)\n",
    "with torch.no_grad():\n",
    "    out_f, out_class = model(imt)\n",
    "out_class = out_class.view(10, 1)\n",
    "mean, std = 0.0, 0.0\n",
    "for j, e in enumerate(out_class, 1):\n",
    "    mean += j * e\n",
    "for k, e in enumerate(out_class, 1):\n",
    "    std += e * (k - mean) ** 2\n",
    "std = std ** 0.5\n",
    "print(f\"MEAN SCORE: {float(mean):0.2f} STD: {float(std):0.2f}\")\n",
    "time2 = time.perf_counter()\n",
    "print(f\"TIME - {time2-time1:0.2f} s\")"
   ],
   "metadata": {
    "collapsed": false,
    "ExecuteTime": {
     "end_time": "2023-09-13T14:39:54.525699423Z",
     "start_time": "2023-09-13T14:39:52.328333795Z"
    }
   },
   "id": "6f3fe674dee82b5e"
  },
  {
   "cell_type": "markdown",
   "source": [
    "# Image Similarity\n",
    "- PIQ - https://github.com/photosynthesis-team/piq --> different tools and metrics to find similar images\n",
    "- Skimage - https://scikit-image.org/docs/stable/api/skimage.metrics.html#skimage.metrics.structural_similarity\n",
    "- SIFT - https://github.com/adumrewal/SIFTImageSimilarity"
   ],
   "metadata": {
    "collapsed": false
   },
   "id": "60c8b08dbc76ad9"
  },
  {
   "cell_type": "code",
   "execution_count": 98,
   "outputs": [
    {
     "name": "stdout",
     "output_type": "stream",
     "text": [
      "Smaller number means more similar images\n",
      "DISTS: 0.0581\n",
      "DISTS: 0.2703\n",
      "TIME - 5.33 s\n"
     ]
    }
   ],
   "source": [
    "# PIQ DISTS function\n",
    "# - problem with different resolutions --> after resizing too much information lost and inaccurate\n",
    "warnings.filterwarnings('ignore')\n",
    "\n",
    "time1 = time.perf_counter()\n",
    "x = torch.tensor(imread('~/Bakalářka/images/Ples/fotokoutek/foto0001.jpg')).permute(2, 0, 1)[None, ...] / 255.\n",
    "y = torch.tensor(imread('~/Bakalářka/images/Ples/fotokoutek/foto0002.jpg')).permute(2, 0, 1)[None, ...] / 255.\n",
    "z = torch.tensor(imread('~/Bakalářka/images/Ples/fotokoutek/foto0005.jpg')).permute(2, 0, 1)[None, ...] / 255.\n",
    "\n",
    "dists_loss_1 = piq.DISTS(reduction='none')(x, y)\n",
    "dists_loss_2 = piq.DISTS(reduction='none')(x, z)\n",
    "print(\"Smaller number means more similar images\")\n",
    "print(f\"DISTS: {dists_loss_1.item():0.4f}\")\n",
    "print(f\"DISTS: {dists_loss_2.item():0.4f}\")\n",
    "time2 = time.perf_counter()\n",
    "print(f\"TIME - {time2-time1:0.2f} s\")"
   ],
   "metadata": {
    "collapsed": false,
    "ExecuteTime": {
     "end_time": "2023-09-13T14:39:59.861214301Z",
     "start_time": "2023-09-13T14:39:54.524532237Z"
    }
   },
   "id": "b9792c6db7ecea"
  },
  {
   "cell_type": "code",
   "execution_count": 99,
   "outputs": [
    {
     "name": "stdout",
     "output_type": "stream",
     "text": [
      "FOUND shape: [799, 799]\n",
      "Preparing images...\n",
      "Images prepared\n",
      "TIME to process images - 0.62 s\n",
      "TIME to get all similar - 1.08 s\n",
      "foto0001.jpg  most similar img is foto0002.jpg with the score of 0.7743849043067754\n",
      "foto0002.jpg  most similar img is foto0001.jpg with the score of 0.7743849043067754\n",
      "foto0003.jpg  most similar img is foto0001.jpg with the score of 0.7407976082617311\n",
      "foto0004.jpg  doesnt have similar image in set\n",
      "foto0005.jpg  doesnt have similar image in set\n"
     ]
    }
   ],
   "source": [
    "### Skimage\n",
    "#   - outdated implementation with square complexity \n",
    "#   - high memory and cpu usage for mediocre results \n",
    "#   - faster than PIQ DISTS function\n",
    "\n",
    "pth_images = '/home/lukas/Bakalářka/images/Ples/fotokoutek'\n",
    "SIM_LIM = 5  # limiting the number of images for fast example\n",
    "SIM_THRESHOLD = 0.7  # threshold for similarity\n",
    "\n",
    "def imread_reshape(path_images):\n",
    "    min_w = float('inf')\n",
    "    min_h = float('inf')\n",
    "    num = 0\n",
    "    i = 0\n",
    "    lst = os.listdir(path_images)\n",
    "    lst.sort()\n",
    "    for image in lst:\n",
    "        if i >= SIM_LIM:\n",
    "            break\n",
    "        i+=1\n",
    "        temp = io.imread(os.path.join(path_images, image))\n",
    "        if temp is not None:\n",
    "            num += 1\n",
    "            if min_w > temp.shape[0]:\n",
    "                min_w = temp.shape[0]\n",
    "            if min_h > temp.shape[1]:\n",
    "                min_h = temp.shape[1]\n",
    "    shape = [min_w, min_h]\n",
    "\n",
    "    print('FOUND shape:', shape)\n",
    "    print('Preparing images...')\n",
    "\n",
    "    images = None\n",
    "    i = 0\n",
    "    for image in lst:\n",
    "        if i >= SIM_LIM:\n",
    "            break\n",
    "        i+=1\n",
    "        temp = torch.tensor(io.imread(os.path.join(path_images, image)))/255.\n",
    "        if temp is not None:\n",
    "            temp = skimage.transform.resize_local_mean(temp, output_shape=shape)\n",
    "            temp = skimage.color.rgb2gray(temp)\n",
    "            temp = np.expand_dims(temp, 2)\n",
    "            temp = np.rollaxis(temp, 2, 0).astype('f2')\n",
    "            if images is None:\n",
    "                images = temp\n",
    "            else:\n",
    "                images = np.append(images,temp,0).astype('f2')\n",
    "    print('Images prepared')\n",
    "    return images, num, lst\n",
    "\n",
    "time1 = time.perf_counter()\n",
    "ic, img_num, img_lst = imread_reshape(pth_images)\n",
    "time2 = time.perf_counter()\n",
    "\n",
    "print(f\"TIME to process images - {time2-time1:0.2f} s\")\n",
    "\n",
    "sim_list = [[0 for i in range(img_num)] for j in range(img_num)]\n",
    "\n",
    "\n",
    "time1 = time.perf_counter()\n",
    "for i in range(img_num):\n",
    "    for j in range(img_num):\n",
    "        sim_list[i][j] = skimage.metrics.structural_similarity(ic[:][:][:][i], ic[:][:][:][j], win_size=3, data_range= 2)\n",
    "        print(' {0}/{1}'.format(i*img_num+(j+1),img_num*img_num),end='\\r')\n",
    "time2 = time.perf_counter()\n",
    "print(f\"TIME to get all similar - {time2-time1:0.2f} s\")\n",
    "\n",
    "for i in range(len(sim_list[0])):\n",
    "    most_similar = 0\n",
    "    most_idx = 0\n",
    "    for j in range(len(sim_list[0])):\n",
    "        if i == j:\n",
    "            continue\n",
    "        if sim_list[i][j] > most_similar:\n",
    "            most_similar =  sim_list[i][j]\n",
    "            most_idx = j\n",
    "    if most_similar > SIM_THRESHOLD:\n",
    "        print(img_lst[i],' most similar img is',img_lst[most_idx], 'with the score of', most_similar)\n",
    "    else:\n",
    "        print(img_lst[i],' doesnt have similar image in set')"
   ],
   "metadata": {
    "collapsed": false,
    "ExecuteTime": {
     "end_time": "2023-09-13T14:40:01.619321367Z",
     "start_time": "2023-09-13T14:39:59.870010940Z"
    }
   },
   "id": "81c22a6737c9075a"
  },
  {
   "cell_type": "code",
   "execution_count": 1,
   "outputs": [
    {
     "ename": "NameError",
     "evalue": "name 'os' is not defined",
     "output_type": "error",
     "traceback": [
      "\u001B[0;31m---------------------------------------------------------------------------\u001B[0m",
      "\u001B[0;31mNameError\u001B[0m                                 Traceback (most recent call last)",
      "Cell \u001B[0;32mIn [1], line 10\u001B[0m\n\u001B[1;32m      8\u001B[0m SIM_LIM \u001B[38;5;241m=\u001B[39m \u001B[38;5;241m20\u001B[39m\n\u001B[1;32m      9\u001B[0m lst \u001B[38;5;241m=\u001B[39m []  \u001B[38;5;66;03m# list of image file names to process\u001B[39;00m\n\u001B[0;32m---> 10\u001B[0m \u001B[38;5;28;01mfor\u001B[39;00m path \u001B[38;5;129;01min\u001B[39;00m \u001B[43mos\u001B[49m\u001B[38;5;241m.\u001B[39mscandir(pth):\n\u001B[1;32m     11\u001B[0m     \u001B[38;5;28;01mif\u001B[39;00m path\u001B[38;5;241m.\u001B[39mis_file():\n\u001B[1;32m     12\u001B[0m         \u001B[38;5;28;01mif\u001B[39;00m path\u001B[38;5;241m.\u001B[39mname\u001B[38;5;241m.\u001B[39mendswith(\u001B[38;5;124m\"\u001B[39m\u001B[38;5;124m.jpg\u001B[39m\u001B[38;5;124m\"\u001B[39m):\n",
      "\u001B[0;31mNameError\u001B[0m: name 'os' is not defined"
     ]
    }
   ],
   "source": [
    "from main import calculate_score,calculate_matches,compute_SIFT,image_resize,prepare_img_list\n",
    "\n",
    "pth = '/home/lukas/Bakalářka/images/Ples/fotokoutek'\n",
    "nbrs = 5\n",
    "SIM_LIM = 20\n",
    "lst,num = prepare_img_list(pth)\n",
    "if num > SIM_LIM:\n",
    "    num = SIM_LIM\n",
    "\n",
    "features={} # keypoints and descriptors\n",
    "sim_list = [] # list to store results\n",
    "time1 = time.perf_counter()\n",
    "for i in range(num):\n",
    "    img = image_resize(cv2.imread(os.path.join(pth,lst[i])))\n",
    "    keypoints, descriptors = compute_SIFT(img)\n",
    "    features[i] = (keypoints,descriptors)\n",
    "for i in range(num):\n",
    "    keypoints_i, descriptors_i = features[i]\n",
    "    for j in range(max(0,i-nbrs),min(num,i+nbrs+1)):\n",
    "        if i>=j:\n",
    "            continue\n",
    "        keypoints_j, descriptors_j = features[j]\n",
    "        matches = calculate_matches(descriptors_i, descriptors_j)\n",
    "        score = calculate_score(len(matches), len(keypoints_i), len(keypoints_j))\n",
    "        print(\"IMAGES:\",lst[i], lst[j],\"SIMILARITY SCORE:\",score)\n",
    "time2 = time.perf_counter()\n",
    "print(f\"TIME - {time2-time1:0.2f} s\")\n"
   ],
   "metadata": {
    "collapsed": false,
    "ExecuteTime": {
     "end_time": "2023-09-21T11:23:54.384879962Z",
     "start_time": "2023-09-21T11:23:51.546953060Z"
    }
   },
   "id": "3ef6579db08ebcf9"
  },
  {
   "cell_type": "markdown",
   "source": [
    "# Image Content\n",
    "- VGG16 - https://towardsdatascience.com/how-to-use-a-pre-trained-model-vgg-for-image-classification-8dd7c4a4a517\n",
    "- Bag of words approach from similarity search results"
   ],
   "metadata": {
    "collapsed": false
   },
   "id": "8cb00823e63c04a0"
  },
  {
   "cell_type": "code",
   "execution_count": 37,
   "outputs": [
    {
     "ename": "ImportError",
     "evalue": "cannot import name 'pred_result' from 'main' (/home/lukas/Bakalářka/main.py)",
     "output_type": "error",
     "traceback": [
      "\u001B[0;31m---------------------------------------------------------------------------\u001B[0m",
      "\u001B[0;31mImportError\u001B[0m                               Traceback (most recent call last)",
      "Cell \u001B[0;32mIn [37], line 3\u001B[0m\n\u001B[1;32m      1\u001B[0m \u001B[38;5;28;01mfrom\u001B[39;00m \u001B[38;5;21;01mkeras\u001B[39;00m\u001B[38;5;21;01m.\u001B[39;00m\u001B[38;5;21;01mapplications\u001B[39;00m\u001B[38;5;21;01m.\u001B[39;00m\u001B[38;5;21;01mvgg16\u001B[39;00m \u001B[38;5;28;01mimport\u001B[39;00m VGG16\n\u001B[1;32m      2\u001B[0m \u001B[38;5;28;01mfrom\u001B[39;00m \u001B[38;5;21;01mkeras\u001B[39;00m \u001B[38;5;28;01mimport\u001B[39;00m preprocessing\n\u001B[0;32m----> 3\u001B[0m \u001B[38;5;28;01mfrom\u001B[39;00m \u001B[38;5;21;01mmain\u001B[39;00m \u001B[38;5;28;01mimport\u001B[39;00m prepare_img_list,pred_result\n\u001B[1;32m      5\u001B[0m class_model \u001B[38;5;241m=\u001B[39m VGG16(weights\u001B[38;5;241m=\u001B[39m\u001B[38;5;124m'\u001B[39m\u001B[38;5;124mimagenet\u001B[39m\u001B[38;5;124m'\u001B[39m)\n\u001B[1;32m      6\u001B[0m SIM_LIM \u001B[38;5;241m=\u001B[39m \u001B[38;5;241m1\u001B[39m\n",
      "\u001B[0;31mImportError\u001B[0m: cannot import name 'pred_result' from 'main' (/home/lukas/Bakalářka/main.py)"
     ]
    }
   ],
   "source": [
    "from keras.applications.vgg16 import VGG16\n",
    "from keras import preprocessing\n",
    "from main import prepare_img_list,pred_result\n",
    "\n",
    "class_model = VGG16(weights='imagenet')\n",
    "SIM_LIM = 1\n",
    "\n",
    "img_path = \"/home/lukas/Bakalářka/images/Ples/fotokoutek\"\n",
    "content_path = \"image_content_fotokoutek.json\"\n",
    "lst,_ = prepare_img_list(img_path)\n",
    "\n",
    "time1 = time.perf_counter()\n",
    "for i, p in enumerate(lst):\n",
    "    if i >= SIM_LIM:\n",
    "        break\n",
    "    img = preprocessing.image.load_img(os.path.join(img_path,p),color_mode='rgb', target_size=(224, 224))\n",
    "    res = pred_result(img)\n",
    "    print(res)\n",
    "time2 = time.perf_counter()\n",
    "print(f\"TIME - {time2-time1:0.2f} s\")"
   ],
   "metadata": {
    "collapsed": false,
    "ExecuteTime": {
     "end_time": "2023-09-21T13:42:41.262622492Z",
     "start_time": "2023-09-21T13:42:41.215149023Z"
    }
   },
   "id": "c055d2d52527e75"
  },
  {
   "cell_type": "code",
   "execution_count": null,
   "outputs": [],
   "source": [],
   "metadata": {
    "collapsed": false
   },
   "id": "59a246fe76283a9b"
  }
 ],
 "metadata": {
  "kernelspec": {
   "display_name": "Python 3",
   "language": "python",
   "name": "python3"
  },
  "language_info": {
   "codemirror_mode": {
    "name": "ipython",
    "version": 2
   },
   "file_extension": ".py",
   "mimetype": "text/x-python",
   "name": "python",
   "nbconvert_exporter": "python",
   "pygments_lexer": "ipython2",
   "version": "2.7.6"
  }
 },
 "nbformat": 4,
 "nbformat_minor": 5
}
